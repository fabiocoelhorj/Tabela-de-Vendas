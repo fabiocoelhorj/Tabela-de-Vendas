{
 "cells": [
  {
   "cell_type": "markdown",
   "id": "c1e0b104",
   "metadata": {},
   "source": [
    "### Descobrir qual foi o mês, o vendedor e o valor obtido da tabela de vendas"
   ]
  },
  {
   "cell_type": "markdown",
   "id": "660d62bb",
   "metadata": {},
   "source": [
    "#### Vídeo aula feita em conjunto do canal youtube HashtagProgramação\n",
    "###### https://www.youtube.com/c/HashtagProgramacao"
   ]
  },
  {
   "cell_type": "code",
   "execution_count": 2,
   "id": "e6b72aba",
   "metadata": {},
   "outputs": [],
   "source": [
    "import pandas as pd"
   ]
  },
  {
   "cell_type": "markdown",
   "id": "d033bed6",
   "metadata": {},
   "source": [
    "#### Construindo uma lista de valores para os 6 arquivos em Excel"
   ]
  },
  {
   "cell_type": "code",
   "execution_count": 3,
   "id": "9e5afbfd",
   "metadata": {},
   "outputs": [],
   "source": [
    "lista_meses = ['Janeiro', 'Fevereiro', 'Março', 'Abril', 'Maio', 'Junho']"
   ]
  },
  {
   "cell_type": "code",
   "execution_count": null,
   "id": "3f8e33fb",
   "metadata": {},
   "outputs": [],
   "source": []
  },
  {
   "cell_type": "markdown",
   "id": "cafcfef7",
   "metadata": {},
   "source": [
    "#### Lendo um arquivo em Excel"
   ]
  },
  {
   "cell_type": "code",
   "execution_count": 4,
   "id": "da5a8012",
   "metadata": {},
   "outputs": [],
   "source": [
    "tabela_vendas = pd.read_excel('janeiro.xlsx')"
   ]
  },
  {
   "cell_type": "markdown",
   "id": "c85657c8",
   "metadata": {},
   "source": [
    "#### Armazenando todos os meses em uma variável"
   ]
  },
  {
   "cell_type": "code",
   "execution_count": 5,
   "id": "4eba2ac5",
   "metadata": {},
   "outputs": [
    {
     "name": "stdout",
     "output_type": "stream",
     "text": [
      "Janeiro\n",
      "      Vendedor  Vendas\n",
      "0        Maria   41006\n",
      "1     Giuseppe   38162\n",
      "2         Anna   24992\n",
      "3     Giovanni   30826\n",
      "4      Antonio   22208\n",
      "..         ...     ...\n",
      "995     Glauco   26294\n",
      "996      Georg   30144\n",
      "997     Tullia   36002\n",
      "998  Pancrazio   31030\n",
      "999        Gio   37629\n",
      "\n",
      "[1000 rows x 2 columns]\n",
      "\n",
      "Fevereiro\n",
      "      Vendedor  Vendas\n",
      "0        Maria   25193\n",
      "1     Giuseppe   27174\n",
      "2         Anna   34971\n",
      "3     Giovanni   17164\n",
      "4      Antonio   22807\n",
      "..         ...     ...\n",
      "995     Glauco   27516\n",
      "996      Georg   49195\n",
      "997     Tullia   33760\n",
      "998  Pancrazio   49937\n",
      "999        Gio   38870\n",
      "\n",
      "[1000 rows x 2 columns]\n",
      "\n",
      "Março\n",
      "      Vendedor  Vendas\n",
      "0        Maria   22876\n",
      "1     Giuseppe   31953\n",
      "2         Anna   17180\n",
      "3     Giovanni   32777\n",
      "4      Antonio   39083\n",
      "..         ...     ...\n",
      "995     Glauco   26581\n",
      "996      Georg   22899\n",
      "997     Tullia   19810\n",
      "998  Pancrazio   37649\n",
      "999        Gio   23864\n",
      "\n",
      "[1000 rows x 2 columns]\n",
      "\n",
      "Abril\n",
      "      Vendedor  Vendas\n",
      "0        Maria   18662\n",
      "1     Giuseppe   28843\n",
      "2         Anna   23288\n",
      "3     Giovanni   28157\n",
      "4      Antonio   48740\n",
      "..         ...     ...\n",
      "995     Glauco   39915\n",
      "996      Georg   37902\n",
      "997     Tullia   46760\n",
      "998  Pancrazio   31245\n",
      "999        Gio   37739\n",
      "\n",
      "[1000 rows x 2 columns]\n",
      "\n",
      "Maio\n",
      "      Vendedor  Vendas\n",
      "0        Maria   41006\n",
      "1     Giuseppe   38162\n",
      "2         Anna   24992\n",
      "3     Giovanni   30826\n",
      "4      Antonio   22208\n",
      "..         ...     ...\n",
      "995     Glauco   26294\n",
      "996      Georg   30144\n",
      "997     Tullia   36002\n",
      "998  Pancrazio   31030\n",
      "999        Gio   37629\n",
      "\n",
      "[1000 rows x 2 columns]\n",
      "\n",
      "Junho\n",
      "      Vendedor  Vendas\n",
      "0        Maria   48539\n",
      "1     Giuseppe   27292\n",
      "2         Anna   45813\n",
      "3     Giovanni   17049\n",
      "4      Antonio   15988\n",
      "..         ...     ...\n",
      "995     Glauco   15842\n",
      "996      Georg   37695\n",
      "997     Tullia   42438\n",
      "998  Pancrazio   35274\n",
      "999        Gio   47662\n",
      "\n",
      "[1000 rows x 2 columns]\n",
      "\n"
     ]
    }
   ],
   "source": [
    "for mes in lista_meses:\n",
    "    print(mes)\n",
    "    tabela_vendas = pd.read_excel(f'{mes}.xlsx')\n",
    "    print(tabela_vendas)\n",
    "    print()"
   ]
  },
  {
   "cell_type": "markdown",
   "id": "4c38dc84",
   "metadata": {},
   "source": [
    "#### Verificar se em cada coluna Vendas o valor é maior que 50.000"
   ]
  },
  {
   "cell_type": "code",
   "execution_count": 6,
   "id": "5464ec70",
   "metadata": {},
   "outputs": [
    {
     "name": "stdout",
     "output_type": "stream",
     "text": [
      "Janeiro\n",
      "      Vendedor  Vendas\n",
      "0        Maria   41006\n",
      "1     Giuseppe   38162\n",
      "2         Anna   24992\n",
      "3     Giovanni   30826\n",
      "4      Antonio   22208\n",
      "..         ...     ...\n",
      "995     Glauco   26294\n",
      "996      Georg   30144\n",
      "997     Tullia   36002\n",
      "998  Pancrazio   31030\n",
      "999        Gio   37629\n",
      "\n",
      "[1000 rows x 2 columns]\n",
      "Não encontrou ninguém com valor maior que 55000\n",
      "\n",
      "Fevereiro\n",
      "      Vendedor  Vendas\n",
      "0        Maria   25193\n",
      "1     Giuseppe   27174\n",
      "2         Anna   34971\n",
      "3     Giovanni   17164\n",
      "4      Antonio   22807\n",
      "..         ...     ...\n",
      "995     Glauco   27516\n",
      "996      Georg   49195\n",
      "997     Tullia   33760\n",
      "998  Pancrazio   49937\n",
      "999        Gio   38870\n",
      "\n",
      "[1000 rows x 2 columns]\n",
      "Não encontrou ninguém com valor maior que 55000\n",
      "\n",
      "Março\n",
      "      Vendedor  Vendas\n",
      "0        Maria   22876\n",
      "1     Giuseppe   31953\n",
      "2         Anna   17180\n",
      "3     Giovanni   32777\n",
      "4      Antonio   39083\n",
      "..         ...     ...\n",
      "995     Glauco   26581\n",
      "996      Georg   22899\n",
      "997     Tullia   19810\n",
      "998  Pancrazio   37649\n",
      "999        Gio   23864\n",
      "\n",
      "[1000 rows x 2 columns]\n",
      "Não encontrou ninguém com valor maior que 55000\n",
      "\n",
      "Abril\n",
      "      Vendedor  Vendas\n",
      "0        Maria   18662\n",
      "1     Giuseppe   28843\n",
      "2         Anna   23288\n",
      "3     Giovanni   28157\n",
      "4      Antonio   48740\n",
      "..         ...     ...\n",
      "995     Glauco   39915\n",
      "996      Georg   37902\n",
      "997     Tullia   46760\n",
      "998  Pancrazio   31245\n",
      "999        Gio   37739\n",
      "\n",
      "[1000 rows x 2 columns]\n",
      "Não encontrou ninguém com valor maior que 55000\n",
      "\n",
      "Maio\n",
      "      Vendedor  Vendas\n",
      "0        Maria   41006\n",
      "1     Giuseppe   38162\n",
      "2         Anna   24992\n",
      "3     Giovanni   30826\n",
      "4      Antonio   22208\n",
      "..         ...     ...\n",
      "995     Glauco   26294\n",
      "996      Georg   30144\n",
      "997     Tullia   36002\n",
      "998  Pancrazio   31030\n",
      "999        Gio   37629\n",
      "\n",
      "[1000 rows x 2 columns]\n",
      "Encontrou alguém com valor maior que 55000\n",
      "Junho\n",
      "      Vendedor  Vendas\n",
      "0        Maria   48539\n",
      "1     Giuseppe   27292\n",
      "2         Anna   45813\n",
      "3     Giovanni   17049\n",
      "4      Antonio   15988\n",
      "..         ...     ...\n",
      "995     Glauco   15842\n",
      "996      Georg   37695\n",
      "997     Tullia   42438\n",
      "998  Pancrazio   35274\n",
      "999        Gio   47662\n",
      "\n",
      "[1000 rows x 2 columns]\n",
      "Não encontrou ninguém com valor maior que 55000\n",
      "\n"
     ]
    }
   ],
   "source": [
    "for mes in lista_meses:\n",
    "    print(mes)\n",
    "    tabela_vendas = pd.read_excel(f'{mes}.xlsx')\n",
    "    print(tabela_vendas)\n",
    "    if (tabela_vendas['Vendas'] > 55000).any():\n",
    "        print('Encontrou alguém com valor maior que 55000')\n",
    "    else:\n",
    "        print('Não encontrou ninguém com valor maior que 55000')\n",
    "        print()"
   ]
  },
  {
   "cell_type": "markdown",
   "id": "3cef4421",
   "metadata": {},
   "source": [
    "#### Informar qual mês foi encontrado o valor de 55000"
   ]
  },
  {
   "cell_type": "code",
   "execution_count": 7,
   "id": "06ad8a58",
   "metadata": {},
   "outputs": [
    {
     "name": "stdout",
     "output_type": "stream",
     "text": [
      "No mês de Maio foi encontrado alguém com valor acima de 55000\n"
     ]
    }
   ],
   "source": [
    "for mes in lista_meses:\n",
    "    tabela_vendas = pd.read_excel(f'{mes}.xlsx')\n",
    "    if (tabela_vendas['Vendas'] > 55000).any():\n",
    "        print(f'No mês de {mes} foi encontrado alguém com valor acima de 55000')"
   ]
  },
  {
   "cell_type": "code",
   "execution_count": null,
   "id": "05a77089",
   "metadata": {},
   "outputs": [],
   "source": []
  },
  {
   "cell_type": "markdown",
   "id": "e22b363a",
   "metadata": {},
   "source": [
    "#### Informar qual mês, qual vendedor e qual o valor foi batido a meta de 55000"
   ]
  },
  {
   "cell_type": "code",
   "execution_count": 8,
   "id": "c13a513a",
   "metadata": {},
   "outputs": [
    {
     "name": "stdout",
     "output_type": "stream",
     "text": [
      "No mês de Maio o vendedor Hash bateu a meta com 57312 vendas.\n"
     ]
    }
   ],
   "source": [
    "for mes in lista_meses:\n",
    "    tabela_vendas = pd.read_excel(f'{mes}.xlsx')\n",
    "    if (tabela_vendas['Vendas'] > 55000).any():\n",
    "        vendedor = tabela_vendas.loc[tabela_vendas['Vendas'] > 55000, 'Vendedor'].values[0]\n",
    "        vendas = tabela_vendas.loc[tabela_vendas['Vendas'] > 55000, 'Vendas'].values[0]\n",
    "        print(f'No mês de {mes} o vendedor {vendedor} bateu a meta com {vendas} vendas.')"
   ]
  },
  {
   "cell_type": "code",
   "execution_count": null,
   "id": "01096ed3",
   "metadata": {},
   "outputs": [],
   "source": []
  }
 ],
 "metadata": {
  "kernelspec": {
   "display_name": "Python 3",
   "language": "python",
   "name": "python3"
  },
  "language_info": {
   "codemirror_mode": {
    "name": "ipython",
    "version": 3
   },
   "file_extension": ".py",
   "mimetype": "text/x-python",
   "name": "python",
   "nbconvert_exporter": "python",
   "pygments_lexer": "ipython3",
   "version": "3.8.8"
  }
 },
 "nbformat": 4,
 "nbformat_minor": 5
}
